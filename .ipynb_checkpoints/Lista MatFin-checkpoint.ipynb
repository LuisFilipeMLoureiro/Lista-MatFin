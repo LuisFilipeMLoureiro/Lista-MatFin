{
 "cells": [
  {
   "cell_type": "markdown",
   "metadata": {},
   "source": [
    "## Blockchain\n",
    "\n",
    "Março, 2022\n",
    "\n",
    "- Carolina Barbosa\n",
    "- Cícero Thiago\n",
    "- Caio Emmanuel\n",
    "- Luís Filipe Loureiro\n",
    "- Yuri\n"
   ]
  },
  {
   "cell_type": "code",
   "execution_count": 1,
   "metadata": {},
   "outputs": [],
   "source": [
    "from utils import *"
   ]
  },
  {
   "cell_type": "code",
   "execution_count": 2,
   "metadata": {},
   "outputs": [
    {
     "name": "stdout",
     "output_type": "stream",
     "text": [
      "\n",
      "01. Uma instituição financeira paga juros simples de 9% a.a. Aplicando hoje R$1.000.000,00, o Montante ao final de cinco anos será de\n",
      "\n",
      "Aplicando hoje R$1.000.000,00, o Montante ao final de cinco anos será de R$1450000.0\n",
      "| Tempo | Valor investido | Taxa de Juros (%) |     Retorno |    Montante |\n",
      "|   0   |       1000000.0 |         9         |           0 |   1000000.0 |\n",
      "|   1   |               0 |         9         |     90000.0 |   1090000.0 |\n",
      "|   2   |               0 |         9         |    180000.0 |   1180000.0 |\n",
      "|   3   |               0 |         9         |    270000.0 |   1270000.0 |\n",
      "|   4   |               0 |         9         |    360000.0 |   1360000.0 |\n",
      "|   5   |               0 |         9         |    450000.0 |   1450000.0 |\n",
      "\n",
      "\n",
      "\n"
     ]
    }
   ],
   "source": [
    "# Ex1\n",
    "\n",
    "print('''\n",
    "01. Uma instituição financeira paga juros simples de 9% a.a. Aplicando hoje R$1.000.000,00, o Montante ao final de cinco anos será de\n",
    "''')\n",
    "\n",
    "valor_inicial = 1000000.00 # R$\n",
    "taxa_juros = 9 # % a.a.\n",
    "tempo = 5 # anos\n",
    "\n",
    "retorno, montante = calcula_retorno(valor_inicial, taxa_juros, tempo)\n",
    "\n",
    "print(f'Aplicando hoje R$1.000.000,00, o Montante ao final de cinco anos será de R${round(montante, 2)}')\n",
    "print_retorno(valor_inicial, taxa_juros, tempo)\n",
    "print('\\n\\n')"
   ]
  },
  {
   "cell_type": "code",
   "execution_count": 3,
   "metadata": {},
   "outputs": [
    {
     "name": "stdout",
     "output_type": "stream",
     "text": [
      "\n",
      "02. Uma instituição financeira paga taxa de juros simples de 2% a.m. A quantia a ser aplicada para que se obtenham R$ 100.000,00 em 2anos deve ser de\n",
      "\n",
      "A quantia a ser aplicada para que se obtenham R$100.000,00 em 2 anos deve ser de R$67567.57\n",
      "\n",
      "\n",
      "\n"
     ]
    }
   ],
   "source": [
    "# Ex2\n",
    "\n",
    "print('''\n",
    "02. Uma instituição financeira paga taxa de juros simples de 2% a.m. A quantia a ser aplicada para que se obtenham R$ 100.000,00 em 2anos deve ser de\n",
    "''')\n",
    "\n",
    "montante = 100000.00 # R$\n",
    "taxa_juros = 2 # % a.m,.\n",
    "tempo = 24 # meses = 2 anos\n",
    "\n",
    "valor_inicial = calcula_inverso_retorno(montante, taxa_juros, tempo)\n",
    "\n",
    "print(f'A quantia a ser aplicada para que se obtenham R$100.000,00 em 2 anos deve ser de R${round(valor_inicial, 2)}')\n",
    "print('\\n\\n')"
   ]
  },
  {
   "cell_type": "code",
   "execution_count": 4,
   "metadata": {},
   "outputs": [
    {
     "name": "stdout",
     "output_type": "stream",
     "text": [
      "\n",
      "03. Um investidor aplica a quantia de R$ 50.000,00 por 4 dias, no regime de juros simples a uma taxa de 3% a.m. Os rendimentos auferidos no período serão de\n",
      "\n",
      "Os rendimentos auferidos no período serão de R$203.96\n",
      "\n",
      "\n",
      "\n"
     ]
    }
   ],
   "source": [
    "# Ex3\n",
    "\n",
    "print('''\n",
    "03. Um investidor aplica a quantia de R$ 50.000,00 por 4 dias, no regime de juros simples a uma taxa de 3% a.m. Os rendimentos auferidos no período serão de\n",
    "''')\n",
    "\n",
    "valor_inicial = 50000.00 # R$\n",
    "taxa_juros_inicial = 3 # % a.m.\n",
    "tempo = 4 # dias\n",
    "\n",
    "taxa_juros_final = converter_juros(taxa_juros_inicial, 29, interno=False)\n",
    "\n",
    "retorno, montante = calcula_retorno(valor_inicial, taxa_juros_final, tempo)\n",
    "\n",
    "print(f'Os rendimentos auferidos no período serão de R${round(retorno, 2)}')\n",
    "print('\\n\\n')"
   ]
  },
  {
   "cell_type": "code",
   "execution_count": 5,
   "metadata": {},
   "outputs": [
    {
     "name": "stdout",
     "output_type": "stream",
     "text": [
      "\n",
      "04. Uma pessoa toma um empréstimo de RS 25.000,00, por 5 meses, com pagamento no final. O custo da operação é de 10% a.m. O montante do empréstimo no final.(j simples e j compostos) será de\n",
      "\n",
      "O montante do empréstimo no final(simples e compostos) será de R$37500.0 e R$40262.75, respectivamente\n",
      "Regime simples:\n",
      "| Tempo | Valor investido | Taxa de Juros (%) |     Retorno |    Montante |\n",
      "|   0   |         25000.0 |        10         |           0 |     25000.0 |\n",
      "|   1   |               0 |        10         |      2500.0 |     27500.0 |\n",
      "|   2   |               0 |        10         |      5000.0 |     30000.0 |\n",
      "|   3   |               0 |        10         |      7500.0 |     32500.0 |\n",
      "|   4   |               0 |        10         |     10000.0 |     35000.0 |\n",
      "|   5   |               0 |        10         |     12500.0 |     37500.0 |\n",
      "Regime composto:\n",
      "| Tempo | Valor investido | Taxa de Juros (%) |     Retorno |    Montante |\n",
      "|   0   |         25000.0 |        10         |           0 |     25000.0 |\n",
      "|   1   |               0 |        10         |      2500.0 |     27500.0 |\n",
      "|   2   |               0 |        10         |      5250.0 |     30250.0 |\n",
      "|   3   |               0 |        10         |      8275.0 |     33275.0 |\n",
      "|   4   |               0 |        10         |     11602.5 |     36602.5 |\n",
      "|   5   |               0 |        10         |    15262.75 |    40262.75 |\n",
      "\n",
      "\n",
      "\n"
     ]
    }
   ],
   "source": [
    "# Ex4\n",
    "\n",
    "print('''\n",
    "04. Uma pessoa toma um empréstimo de RS 25.000,00, por 5 meses, com pagamento no final. O custo da operação é de 10% a.m. O montante do empréstimo no final.(j simples e j compostos) será de\n",
    "''')\n",
    "\n",
    "valor_inicial = 25000.00 # R$\n",
    "taxa_juros = 10 # % a.m.\n",
    "tempo = 5 # meses\n",
    "\n",
    "retorno_simples, montante_simples = calcula_retorno(valor_inicial, taxa_juros, tempo)\n",
    "retorno_composto, montante_composto = calcula_retorno(valor_inicial, taxa_juros, tempo, regime='composto')\n",
    "\n",
    "print(f'O montante do empréstimo no final(simples e compostos) será de R${round(montante_simples, 2)} e R${round(montante_composto, 2)}, respectivamente')\n",
    "print('Regime simples:')\n",
    "print_retorno(valor_inicial, taxa_juros, tempo)\n",
    "print('Regime composto:')\n",
    "print_retorno(valor_inicial, taxa_juros, tempo, regime='composto')\n",
    "print('\\n\\n')"
   ]
  },
  {
   "cell_type": "code",
   "execution_count": 6,
   "metadata": {},
   "outputs": [
    {
     "name": "stdout",
     "output_type": "stream",
     "text": [
      "\n",
      "05. Um capital inicial de R$ 60.000,00 é investido por 81 dias. No regime de juros compostos, às taxa de 1.2% a.m. O valor de resgate bruto será de\n",
      "\n",
      "O valor de resgate bruto será de R$61963.88\n",
      "\n",
      "\n",
      "\n"
     ]
    }
   ],
   "source": [
    "# Ex5\n",
    "\n",
    "print('''\n",
    "05. Um capital inicial de R$ 60.000,00 é investido por 81 dias. No regime de juros compostos, às taxa de 1.2% a.m. O valor de resgate bruto será de\n",
    "''')\n",
    "\n",
    "valor_inicial = 60000.00 # R$\n",
    "taxa_juros_inicial = 1.2 # % a.m.\n",
    "tempo = 81 # dias\n",
    "\n",
    "taxa_juros_final = converter_juros(taxa_juros_inicial, 30, interno=False)\n",
    "\n",
    "retorno, montante = calcula_retorno(valor_inicial, taxa_juros_final, tempo, regime='composto')\n",
    "\n",
    "print(f'O valor de resgate bruto será de R${round(montante, 2)}')\n",
    "print('\\n\\n')"
   ]
  },
  {
   "cell_type": "code",
   "execution_count": 7,
   "metadata": {},
   "outputs": [
    {
     "name": "stdout",
     "output_type": "stream",
     "text": [
      "\n",
      "06. Uma aplicação de RS 40.000,00 gera um montante de R$ 86.730,00, em 95 dias, regime de juros compostos.A taxa efetiva mensal da operação é de\n",
      "\n",
      "A taxa efetiva mensal da operação é de 27.68% a.m.\n",
      "\n",
      "\n",
      "\n"
     ]
    }
   ],
   "source": [
    "# Ex6\n",
    "\n",
    "print('''\n",
    "06. Uma aplicação de RS 40.000,00 gera um montante de R$ 86.730,00, em 95 dias, regime de juros compostos.A taxa efetiva mensal da operação é de\n",
    "''')\n",
    "\n",
    "valor_inicial = 40000.00 # R$\n",
    "montante = 86730.00 # R$\n",
    "tempo = 95 # dias\n",
    "\n",
    "taxa_juros_diaria = calcula_taxa_juros(valor_inicial, montante, tempo, regime='composto')\n",
    "taxa_juros_mensal = converter_juros(taxa_juros_diaria, 30)\n",
    "\n",
    "print(f'A taxa efetiva mensal da operação é de {round(taxa_juros_mensal, 2)}% a.m.')\n",
    "print('\\n\\n')"
   ]
  },
  {
   "cell_type": "code",
   "execution_count": 8,
   "metadata": {},
   "outputs": [
    {
     "name": "stdout",
     "output_type": "stream",
     "text": [
      "\n",
      "07. A taxa trimestral proporcional à taxa de 21% a.a. é\n",
      "\n",
      "A taxa trimestral proporcional à taxa de 21% a.a. é 5.25% a.t.\n",
      "\n",
      "\n",
      "\n"
     ]
    }
   ],
   "source": [
    "# Ex7\n",
    "\n",
    "print('''\n",
    "07. A taxa trimestral proporcional à taxa de 21% a.a. é\n",
    "''')\n",
    "\n",
    "taxa_juros_anual = 21 # % a.a.\n",
    "taxa_juros_trimestral = converter_juros(taxa_juros_anual, 4, regime='simples', interno=False)\n",
    "\n",
    "print(f'A taxa trimestral proporcional à taxa de 21% a.a. é {round(taxa_juros_trimestral, 2)}% a.t.')\n",
    "print('\\n\\n')"
   ]
  },
  {
   "cell_type": "code",
   "execution_count": 9,
   "metadata": {},
   "outputs": [
    {
     "name": "stdout",
     "output_type": "stream",
     "text": [
      "\n",
      "08. A taxa mensal proporcional à taxa de 36% a.a. é \n",
      "\n",
      "A taxa mensal proporcional à taxa de 36% a.a. é 3.0% a.m.\n",
      "\n",
      "\n",
      "\n"
     ]
    }
   ],
   "source": [
    "# Ex8\n",
    "\n",
    "print('''\n",
    "08. A taxa mensal proporcional à taxa de 36% a.a. é \n",
    "''')\n",
    "\n",
    "taxa_juros_anual = 36 # % a.a.\n",
    "taxa_juros_mensal = converter_juros(taxa_juros_anual, 12, regime='simples', interno=False)\n",
    "\n",
    "print(f'A taxa mensal proporcional à taxa de 36% a.a. é {round(taxa_juros_mensal, 2)}% a.m.')\n",
    "print('\\n\\n')"
   ]
  },
  {
   "cell_type": "code",
   "execution_count": 10,
   "metadata": {},
   "outputs": [
    {
     "name": "stdout",
     "output_type": "stream",
     "text": [
      "\n",
      "09. A taxa diária equivalente “a taxa de 4% a.m”. é\n",
      "\n",
      "A taxa diária equivalente à taxa de 4% a.m. é 0.1308% a.d.\n",
      "\n",
      "\n",
      "\n"
     ]
    }
   ],
   "source": [
    "# Ex9\n",
    "\n",
    "print('''\n",
    "09. A taxa diária equivalente “a taxa de 4% a.m”. é\n",
    "''')\n",
    "\n",
    "taxa_juros_mensal = 4 # % a.m.\n",
    "taxa_juros_diaria = converter_juros(taxa_juros_mensal, 30, interno=False)\n",
    "\n",
    "print(f'A taxa diária equivalente à taxa de 4% a.m. é {round(taxa_juros_diaria, 4)}% a.d.')\n",
    "print('\\n\\n')"
   ]
  },
  {
   "cell_type": "code",
   "execution_count": 11,
   "metadata": {},
   "outputs": [
    {
     "name": "stdout",
     "output_type": "stream",
     "text": [
      "\n",
      "10. A  taxa por dia útil equivalente à taxa de 1.5% a.m. (21 dias úteis) é\n",
      "\n",
      "A taxa por dia útil equivalente à taxa de 1.5% a.m. (21 dias úteis) é 0.07092% a.d.\n",
      "\n",
      "\n",
      "\n"
     ]
    }
   ],
   "source": [
    "# Ex10\n",
    "\n",
    "print('''\n",
    "10. A  taxa por dia útil equivalente à taxa de 1.5% a.m. (21 dias úteis) é\n",
    "''')\n",
    "\n",
    "taxa_juros_mensal = 1.5 # % a.m.\n",
    "taxa_juros_diaria = converter_juros(taxa_juros_mensal, 21, interno=False)\n",
    "\n",
    "print(f'A taxa por dia útil equivalente à taxa de 1.5% a.m. (21 dias úteis) é {round(taxa_juros_diaria, 5)}% a.d.')\n",
    "print('\\n\\n')"
   ]
  },
  {
   "cell_type": "code",
   "execution_count": 12,
   "metadata": {},
   "outputs": [
    {
     "name": "stdout",
     "output_type": "stream",
     "text": [
      "\n",
      "11. Uma pessoa investe R$ 50.000,00 no mercado financeiro por três meses, obtendo as seguintes rentabilidades efetivas mensais: primeiro mês  5%, segundo mês 8% e no terceiro  mês  10%,  o montante de resgate será de\n",
      "\n",
      "O montante de resgate será de R$62370.0\n",
      "\n",
      "\n",
      "\n"
     ]
    }
   ],
   "source": [
    "# Ex11\n",
    "\n",
    "print('''\n",
    "11. Uma pessoa investe R$ 50.000,00 no mercado financeiro por três meses, obtendo as seguintes rentabilidades efetivas mensais: primeiro mês  5%, segundo mês 8% e no terceiro  mês  10%,  o montante de resgate será de\n",
    "''')\n",
    "\n",
    "valor_inicial = 50000.00 # R$\n",
    "taxas_tempo_map = { # taxa (% a.m.) : tempo de investimento sobre a taxa (mês)\n",
    "    5: 1,\n",
    "    8: 1,\n",
    "    10: 1\n",
    "}\n",
    "\n",
    "montante = valor_inicial\n",
    "for taxa, tempo in taxas_tempo_map.items():\n",
    "    retorno, montante = calcula_retorno(montante, taxa, tempo, regime='composto')\n",
    "\n",
    "print(f'O montante de resgate será de R${round(montante, 2)}')\n",
    "print('\\n\\n')"
   ]
  },
  {
   "cell_type": "code",
   "execution_count": 13,
   "metadata": {},
   "outputs": [
    {
     "name": "stdout",
     "output_type": "stream",
     "text": [
      "\n",
      "12. Uma operação interbancária com principal de RS1. 000.000,00 é realizada por 5 dias úteis. As taxas over ano da operação são as seguintes: 15,25% a.a., 15,30% a.a., 15,40% a.a., 15,45% a.a., 15,50% a.a. O montante da operação será de\n",
      "\n",
      "O montante de resgate será de R$1002842.53\n",
      "\n",
      "\n",
      "\n"
     ]
    }
   ],
   "source": [
    "# Ex12\n",
    "\n",
    "print('''\n",
    "12. Uma operação interbancária com principal de RS1. 000.000,00 é realizada por 5 dias úteis. As taxas over ano da operação são as seguintes: 15,25% a.a., 15,30% a.a., 15,40% a.a., 15,45% a.a., 15,50% a.a. O montante da operação será de\n",
    "''')\n",
    "\n",
    "valor_inicial = 1000000.00 # R$\n",
    "taxas_tempo_map = { # taxa (% a.a.) : tempo de investimento sobre a taxa (dia)\n",
    "    15.25: 1,\n",
    "    15.30: 1,\n",
    "    15.40: 1,\n",
    "    15.45: 1,\n",
    "    15.50: 1\n",
    "}\n",
    "\n",
    "montante = valor_inicial\n",
    "for taxa, tempo in taxas_tempo_map.items():\n",
    "    taxa_juros_diaria = converter_juros(taxa, 252, interno=False)\n",
    "    retorno, montante = calcula_retorno(montante, taxa_juros_diaria, tempo, regime='composto')\n",
    "\n",
    "print(f'O montante de resgate será de R${round(montante, 2)}')\n",
    "print('\\n\\n')"
   ]
  },
  {
   "cell_type": "code",
   "execution_count": 14,
   "metadata": {},
   "outputs": [
    {
     "name": "stdout",
     "output_type": "stream",
     "text": [
      "\n",
      "QUESTÕES N.º 13, N.º 14 e N.º 15.\n",
      "\n",
      "Um indivíduo aplicou no mercado financeiro no início de janeiro de 200X a quantia de R$ 500.000,00 e resgatou, no final de abril do mesmo ano, o valor de R$ 1.200.000,00.\n",
      "As taxas de inflação mensal do período. Foram: JAN 16,51%, FEV 17,96%, MAR 16,01%, ABR 19,28%.\n",
      "\n",
      "\n",
      "\n"
     ]
    }
   ],
   "source": [
    "# Ex13, Ex14, Ex15\n",
    "\n",
    "print('''\n",
    "QUESTÕES N.º 13, N.º 14 e N.º 15.\n",
    "\n",
    "Um indivíduo aplicou no mercado financeiro no início de janeiro de 200X a quantia de R$ 500.000,00 e resgatou, no final de abril do mesmo ano, o valor de R$ 1.200.000,00.\n",
    "As taxas de inflação mensal do período. Foram: JAN 16,51%, FEV 17,96%, MAR 16,01%, ABR 19,28%.\n",
    "''')\n",
    "\n",
    "valor_inicial = 500000.00 # R$\n",
    "montante = 1200000.00 # R$\n",
    "inflacao_tempo_map = { # inflação (% a.m.) : tempo de investimento sobre a taxa (mês)\n",
    "    16.51: 1,\n",
    "    17.96: 1,\n",
    "    16.01: 1,\n",
    "    19.28: 1\n",
    "}\n",
    "\n",
    "print('\\n')"
   ]
  },
  {
   "cell_type": "code",
   "execution_count": 15,
   "metadata": {},
   "outputs": [
    {
     "name": "stdout",
     "output_type": "stream",
     "text": [
      "\n",
      "13. A taxa da operação no período  foi de:\n",
      "\n",
      "A taxa da operação no período foi de 140.0%\n",
      "\n",
      "\n",
      "\n"
     ]
    }
   ],
   "source": [
    "# Ex13\n",
    "\n",
    "print('''\n",
    "13. A taxa da operação no período  foi de:\n",
    "''')\n",
    "\n",
    "performance = ((montante / valor_inicial) - 1) * 100\n",
    "\n",
    "print(f'A taxa da operação no período foi de {round(performance, 2)}%')\n",
    "print('\\n\\n')"
   ]
  },
  {
   "cell_type": "code",
   "execution_count": 16,
   "metadata": {},
   "outputs": [
    {
     "name": "stdout",
     "output_type": "stream",
     "text": [
      "\n",
      "14. A taxa de inflação acumulada foi de:\n",
      "\n",
      "A taxa de inflação acumulada foi de 90.18%\n",
      "\n",
      "\n",
      "\n"
     ]
    }
   ],
   "source": [
    "# Ex14\n",
    "\n",
    "print('''\n",
    "14. A taxa de inflação acumulada foi de:\n",
    "''')\n",
    "\n",
    "inflacao_acumulada = 1\n",
    "for taxa, tempo in inflacao_tempo_map.items():\n",
    "    _, inflacao_acumulada = calcula_retorno(inflacao_acumulada, taxa, tempo, regime='composto')\n",
    "    \n",
    "inflacao_acumulada -= 1\n",
    "inflacao_acumulada *= 100\n",
    "\n",
    "print(f'A taxa de inflação acumulada foi de {round(inflacao_acumulada, 2)}%')\n",
    "print('\\n\\n')"
   ]
  },
  {
   "cell_type": "code",
   "execution_count": 17,
   "metadata": {},
   "outputs": [
    {
     "name": "stdout",
     "output_type": "stream",
     "text": [
      "\n",
      "15. A taxa real de retorno (período) foi de:\n",
      "\n",
      "A taxa real de retorno (período) foi de 26.2%\n",
      "\n",
      "\n",
      "\n"
     ]
    }
   ],
   "source": [
    "# Ex15\n",
    "\n",
    "print('''\n",
    "15. A taxa real de retorno (período) foi de:\n",
    "''')\n",
    "\n",
    "taxa_real = calcula_taxa_real(performance, inflacao_acumulada)\n",
    "\n",
    "print(f'A taxa real de retorno (período) foi de {round(taxa_real, 2)}%')\n",
    "print('\\n\\n')"
   ]
  },
  {
   "cell_type": "code",
   "execution_count": 18,
   "metadata": {},
   "outputs": [
    {
     "name": "stdout",
     "output_type": "stream",
     "text": [
      "\n",
      "QUESTÕES N.º 16 e N.º 17.\n",
      "\n",
      "Apresenta-se a seguinte operação para nossa avaliação: Aplicar R$ 1.000.000, por 42 dias com duas alternativas.\n",
      "\n",
      "\n",
      "\n"
     ]
    }
   ],
   "source": [
    "# Ex16, Ex17\n",
    "\n",
    "print('''\n",
    "QUESTÕES N.º 16 e N.º 17.\n",
    "\n",
    "Apresenta-se a seguinte operação para nossa avaliação: Aplicar R$ 1.000.000, por 42 dias com duas alternativas.\n",
    "''')\n",
    "\n",
    "valor_inicial = 1000000.00 # R$\n",
    "tempo = 42 # dias\n",
    "\n",
    "print('\\n')"
   ]
  },
  {
   "cell_type": "code",
   "execution_count": 19,
   "metadata": {},
   "outputs": [
    {
     "name": "stdout",
     "output_type": "stream",
     "text": [
      "\n",
      "16. O montante da operação, considerando-se juros de 14% a.a. (juros simples, base 365) será de\n",
      "\n",
      "O montante da operação será de R$1016109.59\n",
      "\n",
      "\n",
      "\n"
     ]
    }
   ],
   "source": [
    "# Ex16\n",
    "\n",
    "print('''\n",
    "16. O montante da operação, considerando-se juros de 14% a.a. (juros simples, base 365) será de\n",
    "''')\n",
    "\n",
    "taxa_juros_anual = 14 # % a.a.\n",
    "taxa_juros_diaria = converter_juros(taxa_juros_anual, 365, regime='simples', interno=False)\n",
    "\n",
    "retorno, montante = calcula_retorno(valor_inicial, taxa_juros_diaria, tempo)\n",
    "\n",
    "print(f'O montante da operação será de R${round(montante, 2)}')\n",
    "print('\\n\\n')"
   ]
  },
  {
   "cell_type": "code",
   "execution_count": 20,
   "metadata": {},
   "outputs": [
    {
     "name": "stdout",
     "output_type": "stream",
     "text": [
      "\n",
      "17. O montante da operação, considerando-se juros de 16% a.a., (juros compostos, base 360) será de\n",
      "\n",
      "O montante da operação será de R$1017466.45\n",
      "\n",
      "\n",
      "\n"
     ]
    }
   ],
   "source": [
    "# Ex17\n",
    "\n",
    "print('''\n",
    "17. O montante da operação, considerando-se juros de 16% a.a., (juros compostos, base 360) será de\n",
    "''')\n",
    "\n",
    "taxa_juros_anual = 16 # % a.a.\n",
    "taxa_juros_diaria = converter_juros(taxa_juros_anual, 360, interno=False)\n",
    "\n",
    "retorno, montante = calcula_retorno(valor_inicial, taxa_juros_diaria, tempo, regime='composto')\n",
    "\n",
    "print(f'O montante da operação será de R${round(montante, 2)}')\n",
    "print('\\n\\n')"
   ]
  },
  {
   "cell_type": "code",
   "execution_count": 21,
   "metadata": {},
   "outputs": [
    {
     "name": "stdout",
     "output_type": "stream",
     "text": [
      "\n",
      "QUESTÕES N.º 18, N.º 19 e N.º 20.\n",
      "\n",
      "Uma duplicata de R$ 18.000,00 foi descontada num banco dois meses antes do vencimento, a uma taxa de desconto de 2,5% a.m.\n",
      "\n",
      "\n",
      "\n"
     ]
    }
   ],
   "source": [
    "# Ex18, Ex19, Ex20\n",
    "\n",
    "print('''\n",
    "QUESTÕES N.º 18, N.º 19 e N.º 20.\n",
    "\n",
    "Uma duplicata de R$ 18.000,00 foi descontada num banco dois meses antes do vencimento, a uma taxa de desconto de 2,5% a.m.\n",
    "''')\n",
    "\n",
    "valor_duplicata = 18000 # R$\n",
    "tempo_passado = 2 # meses\n",
    "taxa_desconto = 2.5 # % a.m.\n",
    "\n",
    "print('\\n')"
   ]
  },
  {
   "cell_type": "code",
   "execution_count": 22,
   "metadata": {},
   "outputs": [
    {
     "name": "stdout",
     "output_type": "stream",
     "text": [
      "\n",
      "18. O desconto foi de\n",
      "\n",
      "O desconto foi de R$900.0\n",
      "\n",
      "\n",
      "\n"
     ]
    }
   ],
   "source": [
    "# Ex18\n",
    "\n",
    "print('''\n",
    "18. O desconto foi de\n",
    "''')\n",
    "\n",
    "desconto = valor_duplicata * (taxa_desconto * tempo_passado) / 100\n",
    "\n",
    "print(f'O desconto foi de R${round(desconto, 2)}')\n",
    "print('\\n\\n')"
   ]
  },
  {
   "cell_type": "code",
   "execution_count": 23,
   "metadata": {},
   "outputs": [
    {
     "name": "stdout",
     "output_type": "stream",
     "text": [
      "\n",
      "19. O valor descontado dessa operação foi de\n",
      "\n",
      "O valor descontado dessa operação foi de R$17100.0\n",
      "\n",
      "\n",
      "\n"
     ]
    }
   ],
   "source": [
    "# Ex19\n",
    "\n",
    "print('''\n",
    "19. O valor descontado dessa operação foi de\n",
    "''')\n",
    "\n",
    "valor_operacao = valor_duplicata - desconto\n",
    "\n",
    "print(f'O valor descontado dessa operação foi de R${round(valor_operacao, 2)}')\n",
    "print('\\n\\n')"
   ]
  },
  {
   "cell_type": "code",
   "execution_count": 24,
   "metadata": {},
   "outputs": [
    {
     "name": "stdout",
     "output_type": "stream",
     "text": [
      "\n",
      "20. A  taxa efetiva da operação foi de\n",
      "\n",
      "A taxa efetiva da operação foi de 5.26%\n",
      "\n",
      "\n",
      "\n"
     ]
    }
   ],
   "source": [
    "# Ex20\n",
    "\n",
    "print('''\n",
    "20. A  taxa efetiva da operação foi de\n",
    "''')\n",
    "\n",
    "taxa_efetiva = desconto / valor_operacao * 100\n",
    "\n",
    "print(f'A taxa efetiva da operação foi de {round(taxa_efetiva, 2)}%')\n",
    "print('\\n\\n')"
   ]
  },
  {
   "cell_type": "markdown",
   "metadata": {},
   "source": [
    "EOF"
   ]
  }
 ],
 "metadata": {
  "kernelspec": {
   "display_name": "Python 3 (ipykernel)",
   "language": "python",
   "name": "python3"
  },
  "language_info": {
   "codemirror_mode": {
    "name": "ipython",
    "version": 3
   },
   "file_extension": ".py",
   "mimetype": "text/x-python",
   "name": "python",
   "nbconvert_exporter": "python",
   "pygments_lexer": "ipython3",
   "version": "3.8.10"
  }
 },
 "nbformat": 4,
 "nbformat_minor": 2
}
