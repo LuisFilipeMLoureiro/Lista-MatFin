{
 "cells": [
  {
   "cell_type": "markdown",
   "metadata": {},
   "source": [
    "## Blockchain\n",
    "\n",
    "Março, 2022\n",
    "\n",
    "- Luís Filipe Loureiro\n",
    "- [-]\n",
    "- [-]\n",
    "- [-]\n"
   ]
  },
  {
   "cell_type": "code",
   "execution_count": 3,
   "metadata": {},
   "outputs": [],
   "source": [
    "def juros_simples(inicio, juros, ano):\n",
    "    return (inicio *(1+ano*juros))\n",
    "\n",
    "def inv_juros_simples(retorno, juros, ano):\n",
    "    return(retorno/(1+ano*juros))\n",
    "\n",
    "def juros_compostos(inicio, juros, ano):\n",
    "    return (inicio *(1+juros)**ano)"
   ]
  },
  {
   "cell_type": "code",
   "execution_count": 7,
   "metadata": {},
   "outputs": [
    {
     "name": "stdout",
     "output_type": "stream",
     "text": [
      "1450000.0\n"
     ]
    }
   ],
   "source": [
    "# Ex1\n",
    "print(juros_simples(1000000, 0.09, 5))"
   ]
  },
  {
   "cell_type": "code",
   "execution_count": 9,
   "metadata": {},
   "outputs": [
    {
     "name": "stdout",
     "output_type": "stream",
     "text": [
      "675675.6756756757\n"
     ]
    }
   ],
   "source": [
    "#Ex2\n",
    "print(inv_juros_simples(1000000, 0.02, 24))"
   ]
  },
  {
   "cell_type": "code",
   "execution_count": 13,
   "metadata": {},
   "outputs": [
    {
     "name": "stdout",
     "output_type": "stream",
     "text": [
      "200.0\n"
     ]
    }
   ],
   "source": [
    "#Ex3\n",
    "print(juros_simples(50000, 0.03, (4/30)) - 50000) "
   ]
  },
  {
   "cell_type": "code",
   "execution_count": 19,
   "metadata": {},
   "outputs": [
    {
     "name": "stdout",
     "output_type": "stream",
     "text": [
      "37500.0\n",
      "40262.750000000015\n"
     ]
    }
   ],
   "source": [
    "#Ex4\n",
    "print(juros_simples(25000, 0.1, 5))\n",
    "print(juros_compostos(25000, 0.1, 5))"
   ]
  },
  {
   "cell_type": "code",
   "execution_count": 4,
   "metadata": {},
   "outputs": [
    {
     "name": "stdout",
     "output_type": "stream",
     "text": [
      "61963.88427082662\n"
     ]
    }
   ],
   "source": [
    "print(juros_compostos(60000,0.012,(81/30)))"
   ]
  },
  {
   "cell_type": "code",
   "execution_count": null,
   "metadata": {},
   "outputs": [],
   "source": []
  }
 ],
 "metadata": {
  "kernelspec": {
   "display_name": "Python 3",
   "language": "python",
   "name": "python3"
  },
  "language_info": {
   "codemirror_mode": {
    "name": "ipython",
    "version": 3
   },
   "file_extension": ".py",
   "mimetype": "text/x-python",
   "name": "python",
   "nbconvert_exporter": "python",
   "pygments_lexer": "ipython3",
   "version": "3.7.1"
  }
 },
 "nbformat": 4,
 "nbformat_minor": 2
}
