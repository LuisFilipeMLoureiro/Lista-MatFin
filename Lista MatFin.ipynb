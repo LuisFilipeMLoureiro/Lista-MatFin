{
 "cells": [
  {
   "cell_type": "markdown",
   "metadata": {},
   "source": [
    "## Blockchain\n",
    "\n",
    "Março, 2022\n",
    "\n",
    "- Carolina Barbosa\n",
    "- Cícero Thiago\n",
    "- Caio\n",
    "- Luís Filipe Loureiro\n",
    "- Yuri\n"
   ]
  },
  {
   "cell_type": "code",
   "execution_count": 1,
   "metadata": {},
   "outputs": [],
   "source": [
    "from utils import *"
   ]
  },
  {
   "cell_type": "code",
   "execution_count": 2,
   "metadata": {},
   "outputs": [
    {
     "name": "stdout",
     "output_type": "stream",
     "text": [
      "Aplicando hoje R$1.000.000,00, o Montante ao final de cinco anos será de R$1450000.0\n",
      "\n",
      "\n",
      "\n",
      "| Tempo | Valor investido | Taxa de Juros (%) |     Retorno |    Montante |\n",
      "|   0   |       1000000.0 |         9         |           0 |   1000000.0 |\n",
      "|   1   |               0 |         9         |     90000.0 |   1090000.0 |\n",
      "|   2   |               0 |         9         |    180000.0 |   1180000.0 |\n",
      "|   3   |               0 |         9         |    270000.0 |   1270000.0 |\n",
      "|   4   |               0 |         9         |    360000.0 |   1360000.0 |\n",
      "|   5   |               0 |         9         |    450000.0 |   1450000.0 |\n"
     ]
    }
   ],
   "source": [
    "# Ex1\n",
    "\n",
    "valor_inicial = 1000000.00 # R$\n",
    "taxa_juros = 9 # % a.a.\n",
    "tempo = 5 # anos\n",
    "\n",
    "retorno, montante = calcula_retorno(valor_inicial, taxa_juros, tempo)\n",
    "\n",
    "print(f'Aplicando hoje R$1.000.000,00, o Montante ao final de cinco anos será de R${round(montante, 2)}')\n",
    "print('\\n\\n')\n",
    "print_retorno(valor_inicial, taxa_juros, tempo)"
   ]
  },
  {
   "cell_type": "code",
   "execution_count": 3,
   "metadata": {},
   "outputs": [
    {
     "name": "stdout",
     "output_type": "stream",
     "text": [
      "A quantia a ser aplicada para que se obtenham R$100.000,00 em 2 anos deve ser de R$67567.57\n"
     ]
    }
   ],
   "source": [
    "# Ex2\n",
    "\n",
    "montante = 100000.00 # R$\n",
    "taxa_juros = 2 # % a.m,.\n",
    "tempo = 24 # meses = 2 anos\n",
    "\n",
    "valor_inicial = calcula_inverso_retorno(montante, taxa_juros, tempo)\n",
    "\n",
    "print(f'A quantia a ser aplicada para que se obtenham R$100.000,00 em 2 anos deve ser de R${round(valor_inicial, 2)}')\n",
    "# print_retorno(valor_inicial, taxa_juros, tempo)"
   ]
  },
  {
   "cell_type": "code",
   "execution_count": 4,
   "metadata": {},
   "outputs": [
    {
     "name": "stdout",
     "output_type": "stream",
     "text": [
      "Os rendimentos auferidos no período serão de R$203.96\n"
     ]
    }
   ],
   "source": [
    "# Ex3\n",
    "\n",
    "valor_inicial = 50000.00 # R$\n",
    "taxa_juros_inicial = 3 # % a.m.\n",
    "tempo = 4 # dias\n",
    "\n",
    "taxa_juros_final = converter_juros(taxa_juros_inicial, 29, interno=False)\n",
    "\n",
    "retorno, montante = calcula_retorno(valor_inicial, taxa_juros_final, tempo)\n",
    "\n",
    "print(f'Os rendimentos auferidos no período serão de R${round(retorno, 2)}')\n",
    "# print_retorno(valor_inicial, taxa_juros, tempo)"
   ]
  },
  {
   "cell_type": "code",
   "execution_count": 5,
   "metadata": {},
   "outputs": [
    {
     "name": "stdout",
     "output_type": "stream",
     "text": [
      "O montante do empréstimo no final(simples e compostos) será de R$37500.0 e R$40262.75, respectivamente\n",
      "\n",
      "\n",
      "Regime simples:\n",
      "| Tempo | Valor investido | Taxa de Juros (%) |     Retorno |    Montante |\n",
      "|   0   |         25000.0 |        10         |           0 |     25000.0 |\n",
      "|   1   |               0 |        10         |      2500.0 |     27500.0 |\n",
      "|   2   |               0 |        10         |      5000.0 |     30000.0 |\n",
      "|   3   |               0 |        10         |      7500.0 |     32500.0 |\n",
      "|   4   |               0 |        10         |     10000.0 |     35000.0 |\n",
      "|   5   |               0 |        10         |     12500.0 |     37500.0 |\n",
      "Regime composto:\n",
      "| Tempo | Valor investido | Taxa de Juros (%) |     Retorno |    Montante |\n",
      "|   0   |         25000.0 |        10         |           0 |     25000.0 |\n",
      "|   1   |               0 |        10         |      2500.0 |     27500.0 |\n",
      "|   2   |               0 |        10         |      5250.0 |     30250.0 |\n",
      "|   3   |               0 |        10         |      8275.0 |     33275.0 |\n",
      "|   4   |               0 |        10         |     11602.5 |     36602.5 |\n",
      "|   5   |               0 |        10         |    15262.75 |    40262.75 |\n"
     ]
    }
   ],
   "source": [
    "# Ex4\n",
    "\n",
    "valor_inicial = 25000.00 # R$\n",
    "taxa_juros = 10 # % a.m.\n",
    "tempo = 5 # meses\n",
    "\n",
    "retorno_simples, montante_simples = calcula_retorno(valor_inicial, taxa_juros, tempo)\n",
    "retorno_composto, montante_composto = calcula_retorno(valor_inicial, taxa_juros, tempo, regime='composto')\n",
    "\n",
    "print(f'O montante do empréstimo no final(simples e compostos) será de R${round(montante_simples, 2)} e R${round(montante_composto, 2)}, respectivamente')\n",
    "print('\\n')\n",
    "print('Regime simples:')\n",
    "print_retorno(valor_inicial, taxa_juros, tempo)\n",
    "print('Regime composto:')\n",
    "print_retorno(valor_inicial, taxa_juros, tempo, regime='composto')"
   ]
  },
  {
   "cell_type": "code",
   "execution_count": 6,
   "metadata": {},
   "outputs": [
    {
     "name": "stdout",
     "output_type": "stream",
     "text": [
      "O valor de resgate bruto será de R$61963.88\n"
     ]
    }
   ],
   "source": [
    "# Ex5\n",
    "\n",
    "valor_inicial = 60000.00 # R$\n",
    "taxa_juros_inicial = 1.2 # % a.m.\n",
    "tempo = 81 # dias\n",
    "\n",
    "taxa_juros_final = converter_juros(taxa_juros_inicial, 30, interno=False)\n",
    "\n",
    "retorno, montante = calcula_retorno(valor_inicial, taxa_juros_final, tempo, regime='composto')\n",
    "\n",
    "print(f'O valor de resgate bruto será de R${round(montante, 2)}')"
   ]
  },
  {
   "cell_type": "code",
   "execution_count": 7,
   "metadata": {},
   "outputs": [
    {
     "name": "stdout",
     "output_type": "stream",
     "text": [
      "A taxa efetiva mensal da operação é de 27.68% a.m.\n"
     ]
    }
   ],
   "source": [
    "# Ex6\n",
    "\n",
    "valor_inicial = 40000.00 # R$\n",
    "montante = 86730.00 # R$\n",
    "tempo = 95 # dias\n",
    "\n",
    "taxa_juros_diaria = calcula_taxa_juros(valor_inicial, montante, tempo, regime='composto')\n",
    "taxa_juros_mensal = converter_juros(taxa_juros_diaria, 30)\n",
    "\n",
    "print(f'A taxa efetiva mensal da operação é de {round(taxa_juros_mensal, 2)}% a.m.')"
   ]
  },
  {
   "cell_type": "code",
   "execution_count": 8,
   "metadata": {},
   "outputs": [
    {
     "name": "stdout",
     "output_type": "stream",
     "text": [
      "A taxa trimestral proporcional à taxa de 21% a.a. é 5.25% a.t.\n"
     ]
    }
   ],
   "source": [
    "# Ex7\n",
    "\n",
    "taxa_juros_anual = 21 # % a.a.\n",
    "taxa_juros_trimestral = converter_juros(taxa_juros_anual, 4, regime='simples', interno=False)\n",
    "\n",
    "print(f'A taxa trimestral proporcional à taxa de 21% a.a. é {round(taxa_juros_trimestral, 2)}% a.t.')"
   ]
  }
 ],
 "metadata": {
  "kernelspec": {
   "display_name": "Python 3 (ipykernel)",
   "language": "python",
   "name": "python3"
  },
  "language_info": {
   "codemirror_mode": {
    "name": "ipython",
    "version": 3
   },
   "file_extension": ".py",
   "mimetype": "text/x-python",
   "name": "python",
   "nbconvert_exporter": "python",
   "pygments_lexer": "ipython3",
   "version": "3.8.10"
  }
 },
 "nbformat": 4,
 "nbformat_minor": 2
}
